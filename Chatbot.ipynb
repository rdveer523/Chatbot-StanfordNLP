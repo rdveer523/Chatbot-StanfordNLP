{
 "cells": [
  {
   "cell_type": "code",
   "execution_count": 2,
   "metadata": {
    "collapsed": false,
    "deletable": true,
    "editable": true
   },
   "outputs": [
    {
     "output_type": "error",
     "ename": "ModuleNotFoundError",
     "evalue": "No module named 'textblob'",
     "traceback": [
      "\u001b[1;31m---------------------------------------------------------------------------\u001b[0m",
      "\u001b[1;31mModuleNotFoundError\u001b[0m                       Traceback (most recent call last)",
      "\u001b[1;32m<ipython-input-2-17e77baedfba>\u001b[0m in \u001b[0;36m<module>\u001b[1;34m\u001b[0m\n\u001b[1;32m----> 1\u001b[1;33m \u001b[1;32mfrom\u001b[0m \u001b[0mtextblob\u001b[0m \u001b[1;32mimport\u001b[0m \u001b[0mTextBlob\u001b[0m\u001b[1;33m\u001b[0m\u001b[1;33m\u001b[0m\u001b[0m\n\u001b[0m\u001b[0;32m      2\u001b[0m \u001b[1;32mfrom\u001b[0m \u001b[0mattributegetter\u001b[0m \u001b[1;32mimport\u001b[0m \u001b[1;33m*\u001b[0m\u001b[1;33m\u001b[0m\u001b[1;33m\u001b[0m\u001b[0m\n\u001b[0;32m      3\u001b[0m \u001b[1;32mfrom\u001b[0m \u001b[0mgeneratengrams\u001b[0m \u001b[1;32mimport\u001b[0m \u001b[0mngrammatch\u001b[0m\u001b[1;33m\u001b[0m\u001b[1;33m\u001b[0m\u001b[0m\n\u001b[0;32m      4\u001b[0m \u001b[1;32mfrom\u001b[0m \u001b[0mContexts\u001b[0m \u001b[1;32mimport\u001b[0m \u001b[1;33m*\u001b[0m\u001b[1;33m\u001b[0m\u001b[1;33m\u001b[0m\u001b[0m\n\u001b[0;32m      5\u001b[0m \u001b[1;32mimport\u001b[0m \u001b[0mjson\u001b[0m\u001b[1;33m\u001b[0m\u001b[1;33m\u001b[0m\u001b[0m\n",
      "\u001b[1;31mModuleNotFoundError\u001b[0m: No module named 'textblob'"
     ]
    }
   ],
   "source": [
    "#from textblob import TextBlob\n",
    "from attributegetter import *\n",
    "from generatengrams import ngrammatch\n",
    "from Contexts import *\n",
    "import json\n",
    "from Intents import *\n",
    "import random"
   ]
  },
  {
   "cell_type": "code",
   "execution_count": 16,
   "metadata": {
    "collapsed": true,
    "deletable": true,
    "editable": true
   },
   "outputs": [],
   "source": [
    "def check_actions(current_intent, attributes, active_contexts):\n",
    "    '''Performs actions pertaining to current intent'''\n",
    "    for action in intents.actions:\n",
    "        if action.contexts_satisfied(active_contexts):\n",
    "            return perform_action()"
   ]
  },
  {
   "cell_type": "code",
   "execution_count": 17,
   "metadata": {
    "collapsed": true,
    "deletable": true,
    "editable": true
   },
   "outputs": [],
   "source": [
    "def check_required_params(current_intent, attributes, active_contexts):\n",
    "    '''Collects attributes pertaining to the current intent'''\n",
    "    \n",
    "    for para in current_intent.params:\n",
    "        if para.required:\n",
    "            if para not in attributes:\n",
    "                return random.choice(para.prompts), active_contexts\n",
    "    return None, active_contexts\n",
    "    "
   ]
  },
  {
   "cell_type": "code",
   "execution_count": 18,
   "metadata": {
    "collapsed": true,
    "deletable": true,
    "editable": true
   },
   "outputs": [],
   "source": [
    "def input_processor(user_input, context, attributes, intent):\n",
    "    '''Spellcheck and entity extraction functions go here'''\n",
    "    \n",
    "    uinput = TextBlob(user_input).correct().string\n",
    "    \n",
    "    #update the attributes, abstract over the entities in user input\n",
    "    attributes, cleaned_input = getattributes(user_input, context, attributes)\n",
    "    \n",
    "    return attributes, cleaned_input\n",
    "    "
   ]
  },
  {
   "cell_type": "code",
   "execution_count": 19,
   "metadata": {
    "collapsed": true,
    "deletable": true,
    "editable": true
   },
   "outputs": [],
   "source": [
    "def loadIntent(path, intent):\n",
    "    with open(path) as fil:\n",
    "        dat = json.load(fil)\n",
    "        intent = dat[intent]\n",
    "        return Intent(intent['intentname'],intent['Parameters'])\n",
    "\n",
    "def intentIdentifier(clean_input, context,current_intent):\n",
    "    clean_input = clean_input.lower()\n",
    "    scores = ngrammatch(clean_input)\n",
    "    scores = sorted_by_second = sorted(scores, key=lambda tup: tup[1])\n",
    "    # print clean_input\n",
    "    # print 'scores', scores\n",
    "\n",
    "    if(current_intent==None):\n",
    "        if(clean_input==\"search\"):\n",
    "            return loadIntent('data/params/params.cfg', 'FlightSearch')\n",
    "        if(clean_input=='book'):\n",
    "            return loadIntent('data/params/params.cfg','FlightBook')\n",
    "        else:\n",
    "            if scores[-1][0].startswith('book'):\n",
    "                return loadIntent('data/params/params.cfg','FlightBook')\n",
    "            elif scores[-1][0].startswith('search'):\n",
    "                return loadIntent('data/params/params.cfg','FlightSearch')\n",
    "            else:\n",
    "                return loadIntent('data/params/params.cfg','FlightSearch')\n",
    "    else:\n",
    "        return current_intent"
   ]
  },
  {
   "cell_type": "code",
   "execution_count": null,
   "metadata": {
    "collapsed": false,
    "deletable": true,
    "editable": true
   },
   "outputs": [],
   "source": [
    "class Session:\n",
    "    def __init__(self, attributes=None, active_contexts=[]):\n",
    "        \n",
    "        '''Initialise a default session'''\n",
    "        \n",
    "        #Contexts are flags which control dialogue flow\n",
    "        #self.active_contexts = active_contexts\n",
    "        #self.context = FirstGreeting()\n",
    "        self.context = FirstGreeting()\n",
    "        \n",
    "        #Intent tracks the current state of dialogue\n",
    "        #self.current_intent = First_Greeting()\n",
    "        self.current_intent = None\n",
    "        \n",
    "        #attributes hold the information collected over the conversation\n",
    "        self.attributes = {}\n",
    "        \n",
    "    def reply(self, user_input):\n",
    "        '''Generate response to user input'''\n",
    "        \n",
    "        self.attributes, clean_input = input_processor(user_input, self.context, self.attributes, self.current_intent)\n",
    "        \n",
    "        self.current_intent = intentIdentifier(clean_input, self.context, self.current_intent)\n",
    "        \n",
    "        prompt, self.context = check_required_params(self.current_intent, self.attributes, self.context)\n",
    "        \n",
    "        if prompt is not None:\n",
    "            return prompt\n",
    "        \n",
    "        self.current_intent = intentIdentifier(clean_input, self.context, current_intent)\n",
    "        prompt, self.context = check_required_parameters(self.current_intent, self.attributes, self.context)\n",
    "        print self.attributes\n",
    "        return prompt"
   ]
  },
  {
   "cell_type": "code",
   "execution_count": null,
   "metadata": {
    "collapsed": false,
    "deletable": true,
    "editable": true
   },
   "outputs": [
    {
     "name": "stdout",
     "output_type": "stream",
     "text": [
      "BOT: sup?\n",
      "User: hi\n",
      "['hi']\n",
      "fdsasfD\n",
      "Where do you want the flight from?\n",
      "User: Delhi \n",
      "['@From_LOC_delhi']\n",
      "fdsasfD\n",
      "Where do you want the flight from?\n"
     ]
    }
   ],
   "source": [
    "session = Session()\n",
    "\n",
    "print 'BOT: sup?'\n",
    "\n",
    "while True:\n",
    "    \n",
    "    inp = raw_input('User: ')\n",
    "    print session.reply(inp)"
   ]
  }
 ],
 "metadata": {
  "kernelspec": {
   "display_name": "Python 3.8.3 32-bit",
   "language": "python",
   "name": "python_defaultSpec_1594256927109"
  },
  "language_info": {
   "codemirror_mode": {
    "name": "ipython",
    "version": 2
   },
   "file_extension": ".py",
   "mimetype": "text/x-python",
   "name": "python",
   "nbconvert_exporter": "python",
   "pygments_lexer": "ipython2",
   "version": "2.7.10"
  }
 },
 "nbformat": 4,
 "nbformat_minor": 2
}